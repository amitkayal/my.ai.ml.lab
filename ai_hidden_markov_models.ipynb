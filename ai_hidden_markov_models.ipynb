{
 "cells": [
  {
   "cell_type": "markdown",
   "metadata": {},
   "source": [
    "# Hidden Markov Model (and Filters) notes"
   ]
  },
  {
   "cell_type": "markdown",
   "metadata": {},
   "source": [
    "Ref: meta_concepts_probabilistic.ipynb"
   ]
  },
  {
   "cell_type": "markdown",
   "metadata": {},
   "source": [
    "* Used to analyze or predict time series (which involves noise/uncertainty)\n",
    "* Uses Bayes Nets/Markov Model\n",
    "* Markov Chain\n",
    "    * Stationary Distribution\n",
    "    * Maximum Likelihood\n",
    "    * Laplacian Smoothing\n",
    "* HMM\n",
    "    * Prediction\n",
    "    * State Estimation"
   ]
  }
 ],
 "metadata": {
  "kernelspec": {
   "display_name": "Python 3",
   "language": "python",
   "name": "python3"
  },
  "language_info": {
   "codemirror_mode": {
    "name": "ipython",
    "version": 3
   },
   "file_extension": ".py",
   "mimetype": "text/x-python",
   "name": "python",
   "nbconvert_exporter": "python",
   "pygments_lexer": "ipython3",
   "version": "3.5.3"
  }
 },
 "nbformat": 4,
 "nbformat_minor": 2
}
