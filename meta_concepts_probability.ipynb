{
 "cells": [
  {
   "cell_type": "markdown",
   "metadata": {},
   "source": [
    "# Concepts based on Probability and Randomness"
   ]
  },
  {
   "cell_type": "markdown",
   "metadata": {},
   "source": [
    "* In probability theory and related fields, a __stochastic or random process__ is a mathematical object usually defined as a collection of random variables. \n",
    "* Stochastic processes are widely used as mathematical models of systems and phenomena that appear to vary in a random manner. \n",
    "* __Stochastic calculus__ is a branch of mathematics that operates on stochastic processes. It allows a consistent theory of integration to be defined for integrals of stochastic processes with respect to stochastic processes. It is used to model systems that behave randomly.\n",
    "* In probability theory, a __Markov model__ is a stochastic model used to model randomly changing systems where it is assumed that future states depend only on the current state not on the events that occurred before it (that is, it assumes the Markov property). Generally, this assumption enables reasoning and computation with the model that would otherwise be intractable. For this reason, in the fields of predictive modelling and probabilistic forecasting, it is desirable for a given model to exhibit the Markov property.\n",
    "* __Predictive modeling__ uses statistics to predict outcomes. Most often the event one wants to predict is in the future, but predictive modelling can be applied to any type of unknown event, regardless of when it occurred. For example, predictive models are often used to detect crimes and identify suspects, after the crime has taken place.\n",
    "* __Probabilistic forecasting__ summarizes what is known about, or opinions about, future events. In contrast to single-valued forecasts (such as forecasting that the maximum temperature at given site on a given day will be 23 degrees Celsius, or that the result in a given football match will be a no-score draw), probabilistic forecasts assign a probability to each of a number of different outcomes, and the complete set of probabilities represents a probability forecast. Thus, probabilistic forecasting is a type of probabilistic classification."
   ]
  },
  {
   "cell_type": "markdown",
   "metadata": {},
   "source": [
    "__Markov models__\n",
    "\n",
    "| |System state is fully observable|System state is partially observable|\n",
    "|-|---------------------------------|------------------------------------|\n",
    "|System is autonomous\t|Markov chain\t|Hidden Markov model|\n",
    "|System is controlled\t|Markov decision process\t|Partially observable Markov decision process\n"
   ]
  },
  {
   "cell_type": "markdown",
   "metadata": {},
   "source": [
    "### Log likelihood\n",
    "\n",
    "https://onlinecourses.science.psu.edu/stat504/node/27\n",
    "\n",
    "https://www.youtube.com/watch?v=1IB1O9UdDKc\n",
    "\n",
    "http://boards.straightdope.com/sdmb/showthread.php?t=487765\n"
   ]
  }
 ],
 "metadata": {
  "kernelspec": {
   "display_name": "Python 3",
   "language": "python",
   "name": "python3"
  },
  "language_info": {
   "codemirror_mode": {
    "name": "ipython",
    "version": 3
   },
   "file_extension": ".py",
   "mimetype": "text/x-python",
   "name": "python",
   "nbconvert_exporter": "python",
   "pygments_lexer": "ipython3",
   "version": "3.4.5"
  }
 },
 "nbformat": 4,
 "nbformat_minor": 2
}
