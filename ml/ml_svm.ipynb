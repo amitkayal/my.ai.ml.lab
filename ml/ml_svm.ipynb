{
 "cells": [
  {
   "cell_type": "markdown",
   "metadata": {
    "collapsed": true
   },
   "source": [
    "## Support Vector Machines\n"
   ]
  },
  {
   "cell_type": "markdown",
   "metadata": {},
   "source": [
    "* Classification algorithm\n",
    "* Supervised\n",
    "* Linear classifiers (like logistic regression and perceptron)\n",
    "* Image processing - recognisation - standard method - bag of visual features  combined with SVM\n",
    "* Two ideas:\n",
    "    * Maximum margin classification\n",
    "    * Kernel trick\n"
   ]
  }
 ],
 "metadata": {
  "kernelspec": {
   "display_name": "Python 3",
   "language": "python",
   "name": "python3"
  },
  "language_info": {
   "codemirror_mode": {
    "name": "ipython",
    "version": 3
   },
   "file_extension": ".py",
   "mimetype": "text/x-python",
   "name": "python",
   "nbconvert_exporter": "python",
   "pygments_lexer": "ipython3",
   "version": "3.4.5"
  }
 },
 "nbformat": 4,
 "nbformat_minor": 2
}
