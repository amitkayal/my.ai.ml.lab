{
 "cells": [
  {
   "cell_type": "markdown",
   "metadata": {},
   "source": [
    "### Informed Search\n",
    "* Uses Heuristics\n",
    "* Greedy Search\n",
    "* A* Search"
   ]
  },
  {
   "cell_type": "markdown",
   "metadata": {},
   "source": [
    "* Greedy search always goes from current to the least cost to the goal - may get in wrong route"
   ]
  },
  {
   "cell_type": "markdown",
   "metadata": {},
   "source": [
    "* A\\*: A big part of working on A\\* algorithmns is to come up with good heuristics\n",
    "* Good heuristics: 0 <= h(x) <= h\\`(x)\n",
    "    * Where h(x) is the heuristics function, giving approximate cost of going from current position to goal\n",
    "    * h\\`(x) is the actual cost\n",
    "    * If so, h is called admisible\n",
    "* A\\* is optimal, complete\n",
    "* _Relaxed problem_: Admisible heuristics are solutions to relaxed problems - take the original problem which is hard, change the problem, only make things same or easier\n",
    "    "
   ]
  }
 ],
 "metadata": {
  "kernelspec": {
   "display_name": "Python 3",
   "language": "python",
   "name": "python3"
  },
  "language_info": {
   "codemirror_mode": {
    "name": "ipython",
    "version": 3
   },
   "file_extension": ".py",
   "mimetype": "text/x-python",
   "name": "python",
   "nbconvert_exporter": "python",
   "pygments_lexer": "ipython3",
   "version": "3.4.5"
  }
 },
 "nbformat": 4,
 "nbformat_minor": 2
}
