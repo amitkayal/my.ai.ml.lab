{
 "cells": [
  {
   "cell_type": "markdown",
   "metadata": {},
   "source": [
    "Two types:\n",
    "* Planning: The path to the goal is important. Paths have costs, depths. Heuristics give problem specific guidance.\n",
    "* Identification: assignments to variables. The goal itself is important, not the path. All paths same depth. CSP are specialized for identification problem."
   ]
  },
  {
   "cell_type": "markdown",
   "metadata": {},
   "source": [
    "CSP:\n",
    "* A special subset of serach problem\n",
    "* State is defined by variables X<sub>i</sub>, with values from a domain D (sometimes D depends on i)\n",
    "* Goal test is a set of constraints specifying allowable combinations of values for subsets of variables\n",
    "* A solution is all the assignments which meet all the constraints"
   ]
  },
  {
   "cell_type": "markdown",
   "metadata": {},
   "source": [
    "Backtracking search - basic uninformed algorithgm for solving CSP's\n",
    "* Idea 1: One variable at a time\n",
    "    * Variable assignments are commutative, so fix ordering\n",
    "    * i.e. [WA = red, then NT = green] same as [NT = green then WA = red]\n",
    "    * Only need to consider assignments to a single variable at each step\n",
    "* Check constraints as you go\n",
    "    * i.e. consider only values which do not conflict previous assignments\n",
    "    * might have to do some computation to check the constraints\n",
    "    * \"Incremental goal test\""
   ]
  }
 ],
 "metadata": {
  "kernelspec": {
   "display_name": "Python 3",
   "language": "python",
   "name": "python3"
  },
  "language_info": {
   "codemirror_mode": {
    "name": "ipython",
    "version": 3
   },
   "file_extension": ".py",
   "mimetype": "text/x-python",
   "name": "python",
   "nbconvert_exporter": "python",
   "pygments_lexer": "ipython3",
   "version": "3.4.5"
  }
 },
 "nbformat": 4,
 "nbformat_minor": 2
}
