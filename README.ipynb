{
 "cells": [
  {
   "cell_type": "markdown",
   "metadata": {},
   "source": [
    "# AI and Machine Learning algorithm notes\n",
    "\n",
    "### Supervised algorithms\n",
    "\n",
    "\n",
    "\n",
    "|Sr.No.| Algorithm                             | Classification | Regression | Notes            |\n",
    "|------|:--------------------------------------|:--------------:|:----------:|------------------|\n",
    "|1     |Naive Bayes                            | Yes            | No         | -                |\n",
    "\n",
    "\n",
    "\n",
    "\n",
    "1. [Naive Bayes (Using Gaussian NB) for Classification](ml_naive_bayes.ipynb)\n",
    "2. Support Vector Machines (SVM) for Classification\n",
    "3. Decision Tree for Classification and Regression\n",
    "4. K Nearest Neighbours for Classification and Regression\n",
    "5. AdaBoost for Classification (in conjunction with Decision Tree)\n",
    "6. Random Forest\n",
    "\n",
    "\n",
    "\n"
   ]
  }
 ],
 "metadata": {
  "kernelspec": {
   "display_name": "Python 3",
   "language": "python",
   "name": "python3"
  },
  "language_info": {
   "codemirror_mode": {
    "name": "ipython",
    "version": 3
   },
   "file_extension": ".py",
   "mimetype": "text/x-python",
   "name": "python",
   "nbconvert_exporter": "python",
   "pygments_lexer": "ipython3",
   "version": "3.4.5"
  }
 },
 "nbformat": 4,
 "nbformat_minor": 2
}
