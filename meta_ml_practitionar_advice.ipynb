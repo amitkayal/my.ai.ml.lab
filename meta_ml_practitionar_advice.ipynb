{
 "cells": [
  {
   "cell_type": "markdown",
   "metadata": {},
   "source": [
    "### Assumptions of linear regression\n",
    "\n",
    "1. Linearity\n",
    "* Homoscedasticity\n",
    "* Multivariate normality\n",
    "* Independence of errors\n",
    "* Lack of multicollinearity\n",
    "\n",
    "TODO - fill them up"
   ]
  },
  {
   "cell_type": "markdown",
   "metadata": {},
   "source": [
    "### Dummy variable trap\n",
    "\n",
    "* When we encode categorical features, we get as many dummy variables (boolean features) as there are distinct values in the feature\n",
    "* One dummy variable per feature should be removed, because it is described by absense of all others (i.e. 0 in all others)\n",
    "* Keeping all the dummy variables can actually give wrong results - leading to the dummy variable trap\n",
    "    * Leads to multiple linearity. If there are two dummies, D1 and D2, D2 = 1 - D1. So one can describe the other"
   ]
  },
  {
   "cell_type": "markdown",
   "metadata": {},
   "source": [
    "### You do not need every feature\n",
    "\n",
    "Throw out those which do not influence the output"
   ]
  },
  {
   "cell_type": "markdown",
   "metadata": {},
   "source": [
    "### 5 methods of building a model\n",
    "\n",
    "1. All in\n",
    "* Backward elimination\n",
    "* Forward selection\n",
    "* Bidirectional elimination\n",
    "* Score comparison\n",
    "\n",
    "2,3,4 is called stepwise regression (or just 4 sometimes)"
   ]
  }
 ],
 "metadata": {
  "kernelspec": {
   "display_name": "Python 3",
   "language": "python",
   "name": "python3"
  },
  "language_info": {
   "codemirror_mode": {
    "name": "ipython",
    "version": 3
   },
   "file_extension": ".py",
   "mimetype": "text/x-python",
   "name": "python",
   "nbconvert_exporter": "python",
   "pygments_lexer": "ipython3",
   "version": "3.4.5"
  }
 },
 "nbformat": 4,
 "nbformat_minor": 2
}
