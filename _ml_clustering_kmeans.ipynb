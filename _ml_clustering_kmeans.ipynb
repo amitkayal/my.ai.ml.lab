{
 "cells": [
  {
   "cell_type": "markdown",
   "metadata": {},
   "source": [
    "# K Means Clustering\n",
    "\n",
    "Implementation of the Soft K-Means Clustering algorithm"
   ]
  },
  {
   "cell_type": "code",
   "execution_count": 1,
   "metadata": {
    "collapsed": true
   },
   "outputs": [],
   "source": [
    "import numpy as np\n",
    "import matplotlib.pyplot as plt"
   ]
  },
  {
   "cell_type": "markdown",
   "metadata": {},
   "source": [
    "Let's generate dataset to apply the clustering algorithm to"
   ]
  },
  {
   "cell_type": "code",
   "execution_count": 2,
   "metadata": {
    "collapsed": true
   },
   "outputs": [],
   "source": [
    "def generate_data(num_centers):\n",
    "    \n",
    "    max_dots_per_cluster = 50\n",
    "    min_dots_per_cluster = 10\n",
    "    \n",
    "    # We have to return this\n",
    "    X = []\n",
    "    \n",
    "    # For each cluster center\n",
    "    for k in range(num_centers):\n",
    "        # Create a random center point between -10 and 10 (for both x and y)\n",
    "        x_mean = np.random.randint(-8, 8)\n",
    "        y_mean = np.random.randint(-8, 8)\n",
    "        \n",
    "        # Number of dots in this cluster\n",
    "        dots_in_this_cluster = np.random.randint(min_dots_per_cluster, max_dots_per_cluster)\n",
    "        \n",
    "        # Generate random points around this center\n",
    "        dots = np.random.randn(dots_in_this_cluster, 2) + [x_mean, y_mean]\n",
    "        \n",
    "        # TODO: Improve the below loop, make it a single line of code\n",
    "        for d in dots:\n",
    "            X.append(d)\n",
    "            \n",
    "    X = np.array(X)\n",
    "    return X\n",
    "        \n",
    "        "
   ]
  },
  {
   "cell_type": "markdown",
   "metadata": {},
   "source": [
    "Try out the generate_data() function"
   ]
  },
  {
   "cell_type": "code",
   "execution_count": 3,
   "metadata": {
    "collapsed": false
   },
   "outputs": [
    {
     "data": {
      "image/png": "[encoded data removed]",
      "text/plain": [
       "<matplotlib.figure.Figure at 0x7f62e18cd400>"
      ]
     },
     "metadata": {},
     "output_type": "display_data"
    }
   ],
   "source": [
    "X = generate_data(3)\n",
    "plt.scatter(X[:,0], X[:,1])\n",
    "plt.show()"
   ]
  },
  {
   "cell_type": "markdown",
   "metadata": {},
   "source": [
    "Utility function, to calculate euclidean distance between two points"
   ]
  },
  {
   "cell_type": "code",
   "execution_count": 4,
   "metadata": {
    "collapsed": true
   },
   "outputs": [],
   "source": [
    "def distance(a, b):\n",
    "    diff = a - b\n",
    "    dist = np.sqrt(np.dot(diff, diff))\n",
    "    return dist"
   ]
  },
  {
   "cell_type": "markdown",
   "metadata": {},
   "source": [
    "Cost function for K Means"
   ]
  },
  {
   "cell_type": "code",
   "execution_count": 5,
   "metadata": {
    "collapsed": false
   },
   "outputs": [],
   "source": [
    "def soft_kmeans_cost(X, M, R):\n",
    "    \"\"\"Cost function for K Means\n",
    "    \n",
    "    Args:\n",
    "        X: The matrix of all data points (N x D)\n",
    "        M: The current center of the clusters (K x D)\n",
    "        R: The rank of each cluster centers (N x K)\n",
    "            where N = number of datapoints\n",
    "                  D = dimention of the data (2 in our case)\n",
    "                  K = number of clusters\n",
    "    Return:\n",
    "        Cost value of K Means\n",
    "    \"\"\"\n",
    "    \n",
    "    cost = 0.0\n",
    "    for k in range (len(M)):\n",
    "        # TODO - Squash the loop\n",
    "        for n in range(len(X)):\n",
    "            cost += R[n, k] * distance(M[k], X[n])\n",
    "    return cost"
   ]
  },
  {
   "cell_type": "markdown",
   "metadata": {},
   "source": [
    "Soft K Means implementation"
   ]
  },
  {
   "cell_type": "code",
   "execution_count": 9,
   "metadata": {
    "collapsed": true
   },
   "outputs": [],
   "source": [
    "def soft_kmeans(X, num_clusters, max_iter=300, beta=1.0):\n",
    "    \n",
    "    num_data, dim = X.shape\n",
    "    \n",
    "    M = np.zeros((num_clusters, dim))\n",
    "    E = np.empty((num_data, num_clusters))\n",
    "    \n",
    "    # Initialize K cluster centers\n",
    "    for k in range(num_clusters):\n",
    "        M[k] = X[np.random.choice(num_data)]\n",
    "    \n",
    "    cost = np.zeros((max_iter, 1))\n",
    "    \n",
    "    # While not converged (do for specified iterations)\n",
    "    for i in range(max_iter):\n",
    "        \n",
    "        # Step 1: Calculate cluster responsibilities\n",
    "        for n in range(num_data):\n",
    "            for k in range(num_clusters):\n",
    "                E[n, k] = np.exp(-beta * distance(M[k], X[n]))\n",
    "                \n",
    "        R = E / E.sum(axis=1, keepdims=True)\n",
    "        \n",
    "        # Step 2: Recalculate means\n",
    "        for k in range(num_clusters):\n",
    "            M[k] = R[:,k].dot(X) / R[:,k].sum()\n",
    "            \n",
    "        cost[i] = soft_kmeans_cost(X, M, R)\n",
    "        \n",
    "        if i > 0 and (cost[i] - cost[i-1]) < 1e-3:\n",
    "            break\n",
    "        \n",
    "    return M, R"
   ]
  },
  {
   "cell_type": "code",
   "execution_count": 10,
   "metadata": {
    "collapsed": false
   },
   "outputs": [],
   "source": [
    "num_clusters_guess = 3\n",
    "M, R = soft_kmeans(X, num_clusters_guess)"
   ]
  },
  {
   "cell_type": "markdown",
   "metadata": {},
   "source": [
    "* M should have coordinates of the clusters as learnt by soft K Means\n",
    "* There should be one entry per data point in R. Each entry will have one value for each cluster. The one where the data point belongs to will have a value near to 1. Rest will have values near to 0."
   ]
  },
  {
   "cell_type": "code",
   "execution_count": 11,
   "metadata": {
    "collapsed": false
   },
   "outputs": [
    {
     "data": {
      "image/png": "[encoded data removed]",
      "text/plain": [
       "<matplotlib.figure.Figure at 0x7f62ddc308d0>"
      ]
     },
     "metadata": {},
     "output_type": "display_data"
    }
   ],
   "source": [
    "random_colors = np.random.random((num_clusters_guess, 3))\n",
    "colors = R.dot(random_colors)\n",
    "plt.scatter(X[:,0], X[:,1], c=colors)\n",
    "plt.show()"
   ]
  },
  {
   "cell_type": "markdown",
   "metadata": {},
   "source": [
    "### Fail cases\n",
    "\n",
    "There are certain data formations which K Means cannot cluster upon:\n",
    "\n",
    "* Donut shape data\n",
    "* Elongated gaussians\n",
    "* Gaussians with different densities"
   ]
  },
  {
   "cell_type": "markdown",
   "metadata": {},
   "source": [
    "References:\n",
    "\n",
    "* https://www.udemy.com/cluster-analysis-unsupervised-machine-learning-python\n",
    "* https://www.youtube.com/watch?v=b9gPL6NvsnA&list=PLBv09BD7ez_6lYVoZ1RzVcOPIT5Lfjo0Y\n",
    "* Udacity MLND\n"
   ]
  }
 ],
 "metadata": {
  "kernelspec": {
   "display_name": "Python 3",
   "language": "python",
   "name": "python3"
  },
  "language_info": {
   "codemirror_mode": {
    "name": "ipython",
    "version": 3
   },
   "file_extension": ".py",
   "mimetype": "text/x-python",
   "name": "python",
   "nbconvert_exporter": "python",
   "pygments_lexer": "ipython3",
   "version": "3.4.5"
  }
 },
 "nbformat": 4,
 "nbformat_minor": 2
}
