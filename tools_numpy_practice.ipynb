{
 "cells": [
  {
   "cell_type": "code",
   "execution_count": 1,
   "metadata": {
    "collapsed": false
   },
   "outputs": [],
   "source": [
    "# Generate some random data\n",
    "\n",
    "import numpy as np\n",
    "\n",
    "heights_mt = np.round(np.random.normal(1.75, 0.25, 500), 2)\n",
    "\n",
    "weights_kg = np.round(np.random.normal(70, 5, 500), 2)\n",
    "\n",
    "players = np.column_stack((heights_mt, weights_kg))"
   ]
  },
  {
   "cell_type": "code",
   "execution_count": 2,
   "metadata": {
    "collapsed": false
   },
   "outputs": [
    {
     "name": "stdout",
     "output_type": "stream",
     "text": [
      "<class 'numpy.ndarray'>\n",
      "(500,)\n",
      "(500,)\n",
      "(500, 2)\n"
     ]
    }
   ],
   "source": [
    "# Inspect\n",
    "print(type(heights_mt))\n",
    "print(heights_mt.shape)\n",
    "print(weights_kg.shape)\n",
    "print(players.shape)"
   ]
  },
  {
   "cell_type": "code",
   "execution_count": 3,
   "metadata": {
    "collapsed": false
   },
   "outputs": [
    {
     "name": "stdout",
     "output_type": "stream",
     "text": [
      "[  1.46  79.  ]\n"
     ]
    }
   ],
   "source": [
    "# Fetch elements\n",
    "\n",
    "print(players[0])"
   ]
  },
  {
   "cell_type": "code",
   "execution_count": 4,
   "metadata": {
    "collapsed": false
   },
   "outputs": [
    {
     "data": {
      "text/plain": [
       "1.46"
      ]
     },
     "execution_count": 4,
     "metadata": {},
     "output_type": "execute_result"
    }
   ],
   "source": [
    "players[0,0]"
   ]
  },
  {
   "cell_type": "code",
   "execution_count": 5,
   "metadata": {
    "collapsed": false
   },
   "outputs": [
    {
     "data": {
      "text/plain": [
       "array([ 1.46,  1.79,  1.5 ,  1.94,  1.55])"
      ]
     },
     "execution_count": 5,
     "metadata": {},
     "output_type": "execute_result"
    }
   ],
   "source": [
    "players[0:5, 0]"
   ]
  },
  {
   "cell_type": "code",
   "execution_count": 6,
   "metadata": {
    "collapsed": false
   },
   "outputs": [
    {
     "name": "stdout",
     "output_type": "stream",
     "text": [
      "1.75746\n",
      "70.49996\n",
      "1.75\n",
      "70.58\n",
      "0.254569731901\n",
      "5.10008313642\n"
     ]
    }
   ],
   "source": [
    "# Mean, Median, StdDev\n",
    "\n",
    "print(np.mean(players[:, 0]))\n",
    "print(np.mean(players[:, 1]))\n",
    "print(np.median(players[:, 0]))\n",
    "print(np.median(players[:, 1]))\n",
    "print(np.std(players[:, 0]))\n",
    "print(np.std(players[:, 1]))"
   ]
  },
  {
   "cell_type": "code",
   "execution_count": 7,
   "metadata": {
    "collapsed": false
   },
   "outputs": [
    {
     "data": {
      "text/plain": [
       "array([[  2.37,  68.12],\n",
       "       [  2.27,  70.03],\n",
       "       [  2.26,  68.76],\n",
       "       [  2.38,  75.68],\n",
       "       [  2.33,  66.49],\n",
       "       [  2.42,  71.53],\n",
       "       [  2.29,  68.96],\n",
       "       [  2.37,  66.13],\n",
       "       [  2.6 ,  75.37],\n",
       "       [  2.37,  74.48],\n",
       "       [  2.27,  73.63],\n",
       "       [  2.28,  66.88],\n",
       "       [  2.26,  81.27],\n",
       "       [  2.29,  66.01],\n",
       "       [  2.39,  70.75],\n",
       "       [  2.26,  68.42],\n",
       "       [  2.27,  66.61],\n",
       "       [  2.27,  68.51]])"
      ]
     },
     "execution_count": 7,
     "metadata": {},
     "output_type": "execute_result"
    }
   ],
   "source": [
    "# Select based on criteria\n",
    "\n",
    "# Players who are more than 2.25 mts tall\n",
    "players[players[:, 0] > 2.25]"
   ]
  },
  {
   "cell_type": "code",
   "execution_count": 8,
   "metadata": {
    "collapsed": false
   },
   "outputs": [
    {
     "data": {
      "text/plain": [
       "array([[  1.61,  80.56],\n",
       "       [  2.05,  81.11],\n",
       "       [  1.89,  80.7 ],\n",
       "       [  1.52,  81.4 ],\n",
       "       [  2.1 ,  82.22],\n",
       "       [  1.81,  81.38],\n",
       "       [  1.64,  83.8 ],\n",
       "       [  2.17,  82.  ],\n",
       "       [  2.26,  81.27],\n",
       "       [  1.65,  90.25],\n",
       "       [  1.98,  82.4 ]])"
      ]
     },
     "execution_count": 8,
     "metadata": {},
     "output_type": "execute_result"
    }
   ],
   "source": [
    "# Players who are more than 80 kg in weight\n",
    "players[players[:, 1] > 80]"
   ]
  },
  {
   "cell_type": "code",
   "execution_count": 16,
   "metadata": {
    "collapsed": false
   },
   "outputs": [
    {
     "name": "stdout",
     "output_type": "stream",
     "text": [
      "[ 1.97  1.44  2.17  1.78  1.3   1.51  1.93  2.17  1.71  1.52]\n",
      "[ 1.73  1.59  1.65  1.86  1.49  1.5   2.17  1.47  1.37  1.42]\n"
     ]
    }
   ],
   "source": [
    "option_a = np.round(np.random.normal(1.75, 0.25, 10), 2)\n",
    "option_b = np.round(np.random.normal(1.75, 0.25, 10), 2)\n",
    "print(option_a)\n",
    "print(option_b)"
   ]
  },
  {
   "cell_type": "code",
   "execution_count": 17,
   "metadata": {
    "collapsed": false
   },
   "outputs": [
    {
     "data": {
      "text/plain": [
       "array([ True, False,  True,  True, False, False,  True,  True,  True, False], dtype=bool)"
      ]
     },
     "execution_count": 17,
     "metadata": {},
     "output_type": "execute_result"
    }
   ],
   "source": [
    "option_a > 1.7"
   ]
  },
  {
   "cell_type": "code",
   "execution_count": 18,
   "metadata": {
    "collapsed": false
   },
   "outputs": [
    {
     "data": {
      "text/plain": [
       "array([ True, False, False,  True, False, False,  True, False, False, False], dtype=bool)"
      ]
     },
     "execution_count": 18,
     "metadata": {},
     "output_type": "execute_result"
    }
   ],
   "source": [
    "option_b > 1.7"
   ]
  },
  {
   "cell_type": "code",
   "execution_count": 19,
   "metadata": {
    "collapsed": false
   },
   "outputs": [
    {
     "data": {
      "text/plain": [
       "array([ True, False, False,  True, False, False,  True, False, False, False], dtype=bool)"
      ]
     },
     "execution_count": 19,
     "metadata": {},
     "output_type": "execute_result"
    }
   ],
   "source": [
    "np.logical_and(option_a > 1.7, option_b > 1.7)"
   ]
  },
  {
   "cell_type": "code",
   "execution_count": 20,
   "metadata": {
    "collapsed": false
   },
   "outputs": [
    {
     "data": {
      "text/plain": [
       "array([ True, False,  True,  True, False, False,  True,  True,  True, False], dtype=bool)"
      ]
     },
     "execution_count": 20,
     "metadata": {},
     "output_type": "execute_result"
    }
   ],
   "source": [
    "np.logical_or(option_a > 1.7, option_b > 1.7)"
   ]
  },
  {
   "cell_type": "code",
   "execution_count": 21,
   "metadata": {
    "collapsed": true
   },
   "outputs": [],
   "source": [
    "new_np_array = np.array([option_a, option_b])"
   ]
  },
  {
   "cell_type": "code",
   "execution_count": 23,
   "metadata": {
    "collapsed": false
   },
   "outputs": [
    {
     "data": {
      "text/plain": [
       "array([[ 1.97,  1.44,  2.17,  1.78,  1.3 ,  1.51,  1.93,  2.17,  1.71,\n",
       "         1.52],\n",
       "       [ 1.73,  1.59,  1.65,  1.86,  1.49,  1.5 ,  2.17,  1.47,  1.37,\n",
       "         1.42]])"
      ]
     },
     "execution_count": 23,
     "metadata": {},
     "output_type": "execute_result"
    }
   ],
   "source": [
    "new_np_array"
   ]
  },
  {
   "cell_type": "code",
   "execution_count": 24,
   "metadata": {
    "collapsed": false
   },
   "outputs": [
    {
     "name": "stdout",
     "output_type": "stream",
     "text": [
      "1.97\n",
      "1.44\n",
      "2.17\n",
      "1.78\n",
      "1.3\n",
      "1.51\n",
      "1.93\n",
      "2.17\n",
      "1.71\n",
      "1.52\n",
      "1.73\n",
      "1.59\n",
      "1.65\n",
      "1.86\n",
      "1.49\n",
      "1.5\n",
      "2.17\n",
      "1.47\n",
      "1.37\n",
      "1.42\n"
     ]
    }
   ],
   "source": [
    "for item in np.nditer(new_np_array):\n",
    "    print(item)"
   ]
  }
 ],
 "metadata": {
  "kernelspec": {
   "display_name": "Python 3",
   "language": "python",
   "name": "python3"
  },
  "language_info": {
   "codemirror_mode": {
    "name": "ipython",
    "version": 3
   },
   "file_extension": ".py",
   "mimetype": "text/x-python",
   "name": "python",
   "nbconvert_exporter": "python",
   "pygments_lexer": "ipython3",
   "version": "3.4.5"
  }
 },
 "nbformat": 4,
 "nbformat_minor": 2
}
